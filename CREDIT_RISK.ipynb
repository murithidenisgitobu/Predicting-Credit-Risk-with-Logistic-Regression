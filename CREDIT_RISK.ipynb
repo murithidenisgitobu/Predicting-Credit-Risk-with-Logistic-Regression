{
 "cells": [
  {
   "cell_type": "markdown",
   "id": "83591d93",
   "metadata": {},
   "source": [
    "# **`Business Understanding`**\n",
    "\n",
    "### **Problem Statement**\n",
    "Credit risk has become an issue for banks and financial institutions as default payments from customers result in lost funds for these companies. Machine learning techniques are being used to assist financial institutions in determining clients with the highest probability of defaulting their loans. \n",
    "\n",
    "This project is another application of machine learning in the financial sector. It aims to predict the credit risks of different customers based on their financial records, income, debt size, and a few other factors.\n"
   ]
  },
  {
   "cell_type": "markdown",
   "id": "71cfd1d7",
   "metadata": {},
   "source": [
    "# **`Data Understanding`**\n"
   ]
  },
  {
   "cell_type": "markdown",
   "id": "689a8e9d",
   "metadata": {},
   "source": [
    "### **Data Dictionary**\n",
    "This dataset consists of more than 9,500 loans with information on the loan structure, the borrower, and whether the loan was pain back in full. This data was extracted from LendingClub.com, which is a company that connects borrowers with investors.  \n",
    "\n",
    "| #  | **Feature**           | **Description**                                                                                  |\n",
    "| -- | --------------------- | ------------------------------------------------------------------------------------------------ |\n",
    "| 0  | **credit_policy**     | 1 if the customer meets the credit underwriting criteria; 0 otherwise.                           |\n",
    "| 1  | **purpose**           | The purpose of the loan.                                                                         |\n",
    "| 2  | **int_rate**          | The interest rate of the loan (more risky borrowers are assigned higher interest rates).         |\n",
    "| 3  | **installment**       | The monthly installments owed by the borrower if the loan is funded.                             |\n",
    "| 4  | **log_annual_inc**    | The natural log of the self-reported annual income of the borrower.                              |\n",
    "| 5  | **dti**               | The debt-to-income ratio of the borrower (amount of debt divided by annual income).              |\n",
    "| 6  | **fico**              | The FICO credit score of the borrower.                                                           |\n",
    "| 7  | **days_with_cr_line** | The number of days the borrower has had a credit line.                                           |\n",
    "| 8  | **revol_bal**         | The borrower's revolving balance (amount unpaid at the end of the credit card billing cycle).    |\n",
    "| 9  | **revol_util**        | The borrower's revolving line utilization rate (amount used relative to total credit available). |\n",
    "| 10 | **inq_last_6mths**    | Number of inquiries by creditors in the last 6 months.                                           |\n",
    "| 11 | **delinq_2yrs**       | Number of times 30+ days past due on a payment in the past 2 years.                              |\n",
    "| 12 | **pub_rec**           | Number of derogatory public records.                                                             |\n",
    "| 13 | **not_fully_paid**    | 1 if the loan is not fully paid; 0 otherwise.                                                    |\n"
   ]
  }
 ],
 "metadata": {
  "language_info": {
   "name": "python"
  }
 },
 "nbformat": 4,
 "nbformat_minor": 5
}
